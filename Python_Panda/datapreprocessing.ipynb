{
 "cells": [
  {
   "cell_type": "code",
   "execution_count": 3,
   "metadata": {},
   "outputs": [],
   "source": [
    "import pandas as pd"
   ]
  },
  {
   "cell_type": "code",
   "execution_count": 25,
   "metadata": {},
   "outputs": [],
   "source": [
    "df = pd.read_csv(r\"C:\\Users\\tyto4\\OneDrive\\Dokumente\\0_Winfo_MA\\SS22_IR\\IR-African_Conflicts-VAD\\Daten\\Africa_1997-2020_Jan08.csv\", sep=';')"
   ]
  },
  {
   "cell_type": "code",
   "execution_count": 26,
   "metadata": {},
   "outputs": [
    {
     "data": {
      "text/plain": [
       "['ISO',\n",
       " 'EVENT_ID_CNTY',\n",
       " 'EVENT_ID_NO_CNTY',\n",
       " 'EVENT_DATE',\n",
       " 'YEAR',\n",
       " 'TIME_PRECISION',\n",
       " 'EVENT_TYPE',\n",
       " 'SUB_EVENT_TYPE',\n",
       " 'ACTOR1',\n",
       " 'ASSOC_ACTOR_1',\n",
       " 'INTER1',\n",
       " 'ACTOR2',\n",
       " 'ASSOC_ACTOR_2',\n",
       " 'INTER2',\n",
       " 'INTERACTION',\n",
       " 'REGION',\n",
       " 'COUNTRY',\n",
       " 'ADMIN1',\n",
       " 'ADMIN2',\n",
       " 'ADMIN3',\n",
       " 'LOCATION',\n",
       " 'LATITUDE',\n",
       " 'LONGITUDE',\n",
       " 'GEO_PRECISION',\n",
       " 'SOURCE',\n",
       " 'SOURCE_SCALE',\n",
       " 'NOTES',\n",
       " 'FATALITIES',\n",
       " 'TIMESTAMP']"
      ]
     },
     "execution_count": 26,
     "metadata": {},
     "output_type": "execute_result"
    }
   ],
   "source": [
    "df.columns.values.tolist()"
   ]
  },
  {
   "cell_type": "code",
   "execution_count": 30,
   "metadata": {},
   "outputs": [],
   "source": [
    "dfless = df[[\"EVENT_DATE\",\"YEAR\",\"EVENT_TYPE\",\"REGION\",\"COUNTRY\",\"FATALITIES\"]]"
   ]
  },
  {
   "cell_type": "code",
   "execution_count": 31,
   "metadata": {},
   "outputs": [
    {
     "data": {
      "text/html": [
       "<div>\n",
       "<style scoped>\n",
       "    .dataframe tbody tr th:only-of-type {\n",
       "        vertical-align: middle;\n",
       "    }\n",
       "\n",
       "    .dataframe tbody tr th {\n",
       "        vertical-align: top;\n",
       "    }\n",
       "\n",
       "    .dataframe thead th {\n",
       "        text-align: right;\n",
       "    }\n",
       "</style>\n",
       "<table border=\"1\" class=\"dataframe\">\n",
       "  <thead>\n",
       "    <tr style=\"text-align: right;\">\n",
       "      <th></th>\n",
       "      <th>EVENT_DATE</th>\n",
       "      <th>YEAR</th>\n",
       "      <th>EVENT_TYPE</th>\n",
       "      <th>REGION</th>\n",
       "      <th>COUNTRY</th>\n",
       "      <th>FATALITIES</th>\n",
       "    </tr>\n",
       "  </thead>\n",
       "  <tbody>\n",
       "    <tr>\n",
       "      <th>0</th>\n",
       "      <td>01-janvier-1997</td>\n",
       "      <td>1997</td>\n",
       "      <td>Violence against civilians</td>\n",
       "      <td>Northern Africa</td>\n",
       "      <td>Algeria</td>\n",
       "      <td>5</td>\n",
       "    </tr>\n",
       "    <tr>\n",
       "      <th>1</th>\n",
       "      <td>02-janvier-1997</td>\n",
       "      <td>1997</td>\n",
       "      <td>Violence against civilians</td>\n",
       "      <td>Northern Africa</td>\n",
       "      <td>Algeria</td>\n",
       "      <td>2</td>\n",
       "    </tr>\n",
       "    <tr>\n",
       "      <th>2</th>\n",
       "      <td>03-janvier-1997</td>\n",
       "      <td>1997</td>\n",
       "      <td>Violence against civilians</td>\n",
       "      <td>Northern Africa</td>\n",
       "      <td>Algeria</td>\n",
       "      <td>2</td>\n",
       "    </tr>\n",
       "    <tr>\n",
       "      <th>3</th>\n",
       "      <td>04-janvier-1997</td>\n",
       "      <td>1997</td>\n",
       "      <td>Violence against civilians</td>\n",
       "      <td>Northern Africa</td>\n",
       "      <td>Algeria</td>\n",
       "      <td>16</td>\n",
       "    </tr>\n",
       "    <tr>\n",
       "      <th>4</th>\n",
       "      <td>05-janvier-1997</td>\n",
       "      <td>1997</td>\n",
       "      <td>Violence against civilians</td>\n",
       "      <td>Northern Africa</td>\n",
       "      <td>Algeria</td>\n",
       "      <td>18</td>\n",
       "    </tr>\n",
       "    <tr>\n",
       "      <th>...</th>\n",
       "      <td>...</td>\n",
       "      <td>...</td>\n",
       "      <td>...</td>\n",
       "      <td>...</td>\n",
       "      <td>...</td>\n",
       "      <td>...</td>\n",
       "    </tr>\n",
       "    <tr>\n",
       "      <th>65530</th>\n",
       "      <td>25-octobre-1998</td>\n",
       "      <td>1998</td>\n",
       "      <td>Violence against civilians</td>\n",
       "      <td>Eastern Africa</td>\n",
       "      <td>Kenya</td>\n",
       "      <td>28</td>\n",
       "    </tr>\n",
       "    <tr>\n",
       "      <th>65531</th>\n",
       "      <td>02-novembre-1998</td>\n",
       "      <td>1998</td>\n",
       "      <td>Protests</td>\n",
       "      <td>Eastern Africa</td>\n",
       "      <td>Kenya</td>\n",
       "      <td>0</td>\n",
       "    </tr>\n",
       "    <tr>\n",
       "      <th>65532</th>\n",
       "      <td>10-novembre-1998</td>\n",
       "      <td>1998</td>\n",
       "      <td>Battles</td>\n",
       "      <td>Eastern Africa</td>\n",
       "      <td>Kenya</td>\n",
       "      <td>0</td>\n",
       "    </tr>\n",
       "    <tr>\n",
       "      <th>65533</th>\n",
       "      <td>14-novembre-1998</td>\n",
       "      <td>1998</td>\n",
       "      <td>Battles</td>\n",
       "      <td>Eastern Africa</td>\n",
       "      <td>Kenya</td>\n",
       "      <td>0</td>\n",
       "    </tr>\n",
       "    <tr>\n",
       "      <th>65534</th>\n",
       "      <td>14-novembre-1998</td>\n",
       "      <td>1998</td>\n",
       "      <td>Battles</td>\n",
       "      <td>Eastern Africa</td>\n",
       "      <td>Kenya</td>\n",
       "      <td>0</td>\n",
       "    </tr>\n",
       "  </tbody>\n",
       "</table>\n",
       "<p>65535 rows × 6 columns</p>\n",
       "</div>"
      ],
      "text/plain": [
       "             EVENT_DATE  YEAR                  EVENT_TYPE           REGION  \\\n",
       "0       01-janvier-1997  1997  Violence against civilians  Northern Africa   \n",
       "1       02-janvier-1997  1997  Violence against civilians  Northern Africa   \n",
       "2       03-janvier-1997  1997  Violence against civilians  Northern Africa   \n",
       "3       04-janvier-1997  1997  Violence against civilians  Northern Africa   \n",
       "4       05-janvier-1997  1997  Violence against civilians  Northern Africa   \n",
       "...                 ...   ...                         ...              ...   \n",
       "65530   25-octobre-1998  1998  Violence against civilians   Eastern Africa   \n",
       "65531  02-novembre-1998  1998                    Protests   Eastern Africa   \n",
       "65532  10-novembre-1998  1998                     Battles   Eastern Africa   \n",
       "65533  14-novembre-1998  1998                     Battles   Eastern Africa   \n",
       "65534  14-novembre-1998  1998                     Battles   Eastern Africa   \n",
       "\n",
       "       COUNTRY  FATALITIES  \n",
       "0      Algeria           5  \n",
       "1      Algeria           2  \n",
       "2      Algeria           2  \n",
       "3      Algeria          16  \n",
       "4      Algeria          18  \n",
       "...        ...         ...  \n",
       "65530    Kenya          28  \n",
       "65531    Kenya           0  \n",
       "65532    Kenya           0  \n",
       "65533    Kenya           0  \n",
       "65534    Kenya           0  \n",
       "\n",
       "[65535 rows x 6 columns]"
      ]
     },
     "execution_count": 31,
     "metadata": {},
     "output_type": "execute_result"
    }
   ],
   "source": [
    "dfless"
   ]
  },
  {
   "cell_type": "code",
   "execution_count": 34,
   "metadata": {},
   "outputs": [
    {
     "data": {
      "text/plain": [
       "Middle Africa      33945\n",
       "Eastern Africa     15592\n",
       "Northern Africa     9936\n",
       "Western Africa      5985\n",
       "Southern Africa       77\n",
       "Name: REGION, dtype: int64"
      ]
     },
     "execution_count": 34,
     "metadata": {},
     "output_type": "execute_result"
    }
   ],
   "source": [
    "dfless[\"EVENT_TYPE\"].value_counts()\n",
    "dfless[\"REGION\"].value_counts()"
   ]
  }
 ],
 "metadata": {
  "kernelspec": {
   "display_name": "Python 3.10.5 64-bit (windows store)",
   "language": "python",
   "name": "python3"
  },
  "language_info": {
   "codemirror_mode": {
    "name": "ipython",
    "version": 3
   },
   "file_extension": ".py",
   "mimetype": "text/x-python",
   "name": "python",
   "nbconvert_exporter": "python",
   "pygments_lexer": "ipython3",
   "version": "3.10.5"
  },
  "orig_nbformat": 4,
  "vscode": {
   "interpreter": {
    "hash": "58e15c63a52ef4a1f4a6c82bef7b6b9fd0dd33ef33ca68076a24a2c0ba593e42"
   }
  }
 },
 "nbformat": 4,
 "nbformat_minor": 2
}
